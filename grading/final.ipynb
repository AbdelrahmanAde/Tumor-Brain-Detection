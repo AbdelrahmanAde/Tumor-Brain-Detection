{
 "cells": [
  {
   "cell_type": "code",
   "execution_count": 35,
   "id": "c8aa12ae-119f-4b3e-ba86-47af2561f739",
   "metadata": {},
   "outputs": [
    {
     "ename": "ImportError",
     "evalue": "cannot import name 'ImageProcessor' from 'prep' (d:\\New folder\\models\\grading\\prep.py)",
     "output_type": "error",
     "traceback": [
      "\u001b[1;31m---------------------------------------------------------------------------\u001b[0m",
      "\u001b[1;31mImportError\u001b[0m                               Traceback (most recent call last)",
      "Cell \u001b[1;32mIn[35], line 5\u001b[0m\n\u001b[0;32m      3\u001b[0m \u001b[39mfrom\u001b[39;00m \u001b[39mtensorflow\u001b[39;00m\u001b[39m.\u001b[39;00m\u001b[39mkeras\u001b[39;00m\u001b[39m.\u001b[39;00m\u001b[39mapplications\u001b[39;00m\u001b[39m.\u001b[39;00m\u001b[39mvgg16\u001b[39;00m \u001b[39mimport\u001b[39;00m preprocess_input\n\u001b[0;32m      4\u001b[0m \u001b[39mimport\u001b[39;00m \u001b[39mpickle\u001b[39;00m\n\u001b[1;32m----> 5\u001b[0m \u001b[39mfrom\u001b[39;00m \u001b[39mprep\u001b[39;00m \u001b[39mimport\u001b[39;00m ImageProcessor\n\u001b[0;32m      6\u001b[0m model \u001b[39m=\u001b[39m load_model(\u001b[39m\"\u001b[39m\u001b[39mmdoel_2.h5\u001b[39m\u001b[39m\"\u001b[39m)\n",
      "\u001b[1;31mImportError\u001b[0m: cannot import name 'ImageProcessor' from 'prep' (d:\\New folder\\models\\grading\\prep.py)"
     ]
    },
    {
     "ename": "",
     "evalue": "",
     "output_type": "error",
     "traceback": [
      "\u001b[1;31mThe Kernel crashed while executing code in the the current cell or a previous cell. Please review the code in the cell(s) to identify a possible cause of the failure. Click <a href='https://aka.ms/vscodeJupyterKernelCrash'>here</a> for more info. View Jupyter <a href='command:jupyter.viewOutput'>log</a> for further details."
     ]
    }
   ],
   "source": [
    "import numpy as np\n",
    "from tensorflow.keras.models import Model, load_model\n",
    "from tensorflow.keras.applications.vgg16 import preprocess_input\n",
    "import pickle\n",
    "from prep import ImageProcessor\n",
    "model = load_model(\"mdoel_2.h5\")\n"
   ]
  },
  {
   "cell_type": "code",
   "execution_count": 3,
   "id": "492dd9cb-e3e4-4ee0-a29c-910cf6509ffa",
   "metadata": {},
   "outputs": [],
   "source": [
    "my_dict = {\n",
    "    'laterality': 'Right',\n",
    "    'tumor_location': 'Supratentorial, Frontal Lobe',\n",
    "    'gender': 'FEMALE',\n",
    "    'age_at_initial_pathologic': 40\n",
    "}"
   ]
  },
  {
   "cell_type": "code",
   "execution_count": 31,
   "id": "45060e5c-7163-40c9-a353-1a8fd0eac086",
   "metadata": {},
   "outputs": [
    {
     "ename": "NameError",
     "evalue": "name 'process_img' is not defined",
     "output_type": "error",
     "traceback": [
      "\u001b[1;31m---------------------------------------------------------------------------\u001b[0m",
      "\u001b[1;31mNameError\u001b[0m                                 Traceback (most recent call last)",
      "Cell \u001b[1;32mIn[31], line 2\u001b[0m\n\u001b[0;32m      1\u001b[0m image_path \u001b[39m=\u001b[39m \u001b[39m'\u001b[39m\u001b[39mTr-me_0093.jpg\u001b[39m\u001b[39m'\u001b[39m\n\u001b[1;32m----> 2\u001b[0m x \u001b[39m=\u001b[39mprocess_img(image_path)\n\u001b[0;32m      3\u001b[0m test\u001b[39m=\u001b[39mprocess_data(my_dict)\n\u001b[0;32m      4\u001b[0m \u001b[39m# x.shape\u001b[39;00m\n\u001b[0;32m      5\u001b[0m \u001b[39m##################################################################\u001b[39;00m\n",
      "\u001b[1;31mNameError\u001b[0m: name 'process_img' is not defined"
     ]
    }
   ],
   "source": [
    "image_path = 'Tr-me_0093.jpg'\n",
    "x =process_img(image_path)\n",
    "test=process_data(my_dict)\n",
    "# x.shape\n",
    "##################################################################\n",
    "lbl=model.predict([x, test])\n",
    "lbl22 = np.argmax(lbl, axis = 1) \n",
    "predlbl1 = 'low grade' if lbl22 == 0 else 'high grade' \n",
    "\n",
    "\n",
    "print('predicted : '+str(predlbl1))"
   ]
  },
  {
   "cell_type": "code",
   "execution_count": 7,
   "id": "57966041-46a8-446a-ba4e-7ecce92b1a75",
   "metadata": {},
   "outputs": [
    {
     "name": "stdout",
     "output_type": "stream",
     "text": [
      "1/1 [==============================] - 16s 16s/step\n",
      "predicted : high grade\n"
     ]
    }
   ],
   "source": [
    "lbl=model.predict([x, test])\n",
    "lbl22 = np.argmax(lbl, axis = 1) \n",
    "predlbl1 = 'low grade' if lbl22 == 0 else 'high grade' \n",
    "\n",
    "\n",
    "print('predicted : '+str(predlbl1))\n"
   ]
  },
  {
   "cell_type": "code",
   "execution_count": 5,
   "id": "3d30c7ae-b35d-45ec-8eef-03fd575bab6a",
   "metadata": {},
   "outputs": [
    {
     "name": "stdout",
     "output_type": "stream",
     "text": [
      "{'laterality': 2, 'tumor_location': 1, 'gender': 0, 'age_at_initial_pathologic': 40}\n",
      "[[ 2  1  0 40]]\n"
     ]
    }
   ],
   "source": [
    "with open('label_encoders.pkl', 'rb') as f:\n",
    "    le_dict = pickle.load(f)\n",
    "\n",
    "new_data =my_dict\n",
    "\n",
    "encoded_data = {}\n",
    "for col, val in new_data.items():\n",
    "    if col in le_dict:\n",
    "        encoded_data[col] = le_dict[col].transform([val])[0]\n",
    "    else:\n",
    "        encoded_data[col] = val\n",
    "test = np.array(list(encoded_data.values())).reshape(1, -1)\n",
    "print(encoded_data)\n",
    "print(test)"
   ]
  },
  {
   "cell_type": "code",
   "execution_count": null,
   "id": "030583bc-17bd-45e1-a08e-a1647ea22e19",
   "metadata": {},
   "outputs": [],
   "source": [
    "decoded_dict={}\n",
    "# Example encoded data\n",
    "encoded_data = z_val[2]\n",
    "# Decode the data\n",
    "decoded_data = []\n",
    "for col, encoded_val in zip(['laterality', 'tumor_location', 'gender','age_at_initial_pathologic'], encoded_data):\n",
    "    if col in le_dict:\n",
    "        le = le_dict[col]\n",
    "        decoded_val = le.inverse_transform([int(encoded_val)])[0]\n",
    "        decoded_dict[col]=decoded_val\n",
    "        # decoded_data.append(decoded_val)\n",
    "    elif col==\"age_at_initial_pathologic\":\n",
    "        decoded_dict[col]=encoded_data[3]\n",
    "\n",
    "      \n",
    "    else:\n",
    "        decoded_data.append(encoded_val)\n",
    "\n",
    "print(z_val[2])\n",
    "# print(decoded_data)  \n",
    "print(decoded_dict)"
   ]
  }
 ],
 "metadata": {
  "kernelspec": {
   "display_name": "Python 3 (ipykernel)",
   "language": "python",
   "name": "python3"
  },
  "language_info": {
   "codemirror_mode": {
    "name": "ipython",
    "version": 3
   },
   "file_extension": ".py",
   "mimetype": "text/x-python",
   "name": "python",
   "nbconvert_exporter": "python",
   "pygments_lexer": "ipython3",
   "version": "3.10.5"
  }
 },
 "nbformat": 4,
 "nbformat_minor": 5
}
